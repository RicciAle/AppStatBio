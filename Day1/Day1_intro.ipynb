{
 "cells": [
  {
   "cell_type": "markdown",
   "metadata": {},
   "source": [
    "# Welcome and outline\n",
    "\n",
    "- Some essential R classes and related Bioconductor classes\n",
    "- Introduction to `dplyr`\n",
    "- Random variables and distributions\n",
    "- Hypothesis testing for one or two samples (t-test, Wilcoxon test, etc)\n",
    "- Hypothesis testing for categorical variables (Fisher's Test, Chi-square test)\n",
    "    \n",
    "- Book chapters 0 and 1\n",
    "\n",
    "## Learning objectives\n",
    "\n",
    "- Perform basic data manipulation/exploration in R and dplyr\n",
    "- Identify key R and Bioconductor data classes\n",
    "- Define random variables and distinguish them from non-random ones\n",
    "- Distinguish population from sampling distributions\n",
    "- Interpret t-tests and confidence intervals\n",
    "- Identify when to use Fisher's Exact Test and Chi-square Test\n",
    "\n",
    "## A bit about me - research interests\n",
    "\n",
    "* High-dimensional statistics (more variables than observations)\n",
    "* Predictive modeling and methodology for validation\n",
    "* Metagenomic profiling of the human microbiome\n",
    "* Cancer genomics\n",
    "* HIV treatment effectiveness\n",
    "* http://www.waldronlab.org\n",
    "\n",
    "\n",
    "# R - basic usage\n",
    "\n",
    "## Tips for learning R\n",
    "\n",
    "Pseudo code                                   |   Example code\n",
    "--------------------------------------------  |   -------------------\n",
    "library(packagename)                          | library(dplyr)\n",
    "?functionname                                 | ?select\n",
    "?package::functionname                        | ?dplyr::select\n",
    "? 'Reserved keyword or symbol' \\color{blue}{(or backticks)} | ? '%>%'\n",
    "??searchforpossiblyexistingfunctionandortopic | ??simulate\n",
    "help(package = \"loadedpackage\")               | help(\"dplyr\")\n",
    "browseVignettes(\"packagename\")                | browseVignettes(\"dplyr\")\n",
    "\n",
    "\\tiny Slide credit: Marcel Ramos\n",
    "\n",
    "## Installing Packages the Bioconductor Way\n",
    "\n",
    "- See the [Bioconductor](http://www.bioconductor.org/) site for more info\n",
    "\n",
    "Pseudo code:"
   ]
  },
  {
   "cell_type": "code",
   "execution_count": 1,
   "metadata": {
    "collapsed": true
   },
   "outputs": [],
   "source": [
    "## source(\"https://bioconductor.org/biocLite.R\")\n",
    "## packages <- c(\"packagename\", \"githubuser/repository\", \"biopackage\")\n",
    "## BiocInstaller::biocLite(packages)"
   ]
  },
  {
   "cell_type": "markdown",
   "metadata": {},
   "source": [
    "- Works for CRAN, GitHub, and Bioconductor packages!\n",
    "\n",
    "## Note about installing `devtools`\n",
    "\n",
    "- Useful for building packages\n",
    "- Download and install from GitHub, directly or via BiocInstaller::biocLite()\n",
    "- Installation dependent on OS ([Rtools](https://cran.r-project.org/bin/windows/Rtools/) for Windows)\n",
    "\n",
    "# Introduction to the R language\n",
    "\n",
    "## Base R Data Types: atomic vectors\n",
    "\n",
    "`numeric` (set seed to sync random number generator):"
   ]
  },
  {
   "cell_type": "code",
   "execution_count": 2,
   "metadata": {},
   "outputs": [
    {
     "data": {
      "text/html": [
       "<ol class=list-inline>\n",
       "\t<li>-0.626453810742332</li>\n",
       "\t<li>0.183643324222082</li>\n",
       "\t<li>-0.835628612410047</li>\n",
       "\t<li>1.59528080213779</li>\n",
       "\t<li>0.329507771815361</li>\n",
       "</ol>\n"
      ],
      "text/latex": [
       "\\begin{enumerate*}\n",
       "\\item -0.626453810742332\n",
       "\\item 0.183643324222082\n",
       "\\item -0.835628612410047\n",
       "\\item 1.59528080213779\n",
       "\\item 0.329507771815361\n",
       "\\end{enumerate*}\n"
      ],
      "text/markdown": [
       "1. -0.626453810742332\n",
       "2. 0.183643324222082\n",
       "3. -0.835628612410047\n",
       "4. 1.59528080213779\n",
       "5. 0.329507771815361\n",
       "\n",
       "\n"
      ],
      "text/plain": [
       "[1] -0.6264538  0.1836433 -0.8356286  1.5952808  0.3295078"
      ]
     },
     "metadata": {},
     "output_type": "display_data"
    }
   ],
   "source": [
    "set.seed(1)\n",
    "rnorm(5)"
   ]
  },
  {
   "cell_type": "markdown",
   "metadata": {},
   "source": [
    "`integer`:"
   ]
  },
  {
   "cell_type": "code",
   "execution_count": 3,
   "metadata": {},
   "outputs": [
    {
     "data": {
      "text/html": [
       "<ol class=list-inline>\n",
       "\t<li>2</li>\n",
       "\t<li>1</li>\n",
       "\t<li>3</li>\n",
       "\t<li>4</li>\n",
       "\t<li>5</li>\n",
       "</ol>\n"
      ],
      "text/latex": [
       "\\begin{enumerate*}\n",
       "\\item 2\n",
       "\\item 1\n",
       "\\item 3\n",
       "\\item 4\n",
       "\\item 5\n",
       "\\end{enumerate*}\n"
      ],
      "text/markdown": [
       "1. 2\n",
       "2. 1\n",
       "3. 3\n",
       "4. 4\n",
       "5. 5\n",
       "\n",
       "\n"
      ],
      "text/plain": [
       "[1] 2 1 3 4 5"
      ]
     },
     "metadata": {},
     "output_type": "display_data"
    }
   ],
   "source": [
    "sample( 1:5 )"
   ]
  },
  {
   "cell_type": "markdown",
   "metadata": {},
   "source": [
    "`logical`:"
   ]
  },
  {
   "cell_type": "code",
   "execution_count": 4,
   "metadata": {},
   "outputs": [
    {
     "data": {
      "text/html": [
       "<ol class=list-inline>\n",
       "\t<li>FALSE</li>\n",
       "\t<li>FALSE</li>\n",
       "\t<li>TRUE</li>\n",
       "</ol>\n"
      ],
      "text/latex": [
       "\\begin{enumerate*}\n",
       "\\item FALSE\n",
       "\\item FALSE\n",
       "\\item TRUE\n",
       "\\end{enumerate*}\n"
      ],
      "text/markdown": [
       "1. FALSE\n",
       "2. FALSE\n",
       "3. TRUE\n",
       "\n",
       "\n"
      ],
      "text/plain": [
       "[1] FALSE FALSE  TRUE"
      ]
     },
     "metadata": {},
     "output_type": "display_data"
    }
   ],
   "source": [
    "1:3 %in% 3"
   ]
  },
  {
   "cell_type": "markdown",
   "metadata": {},
   "source": [
    "`character`:"
   ]
  },
  {
   "cell_type": "code",
   "execution_count": 5,
   "metadata": {},
   "outputs": [
    {
     "data": {
      "text/html": [
       "<ol class=list-inline>\n",
       "\t<li>'yes'</li>\n",
       "\t<li>'no'</li>\n",
       "</ol>\n"
      ],
      "text/latex": [
       "\\begin{enumerate*}\n",
       "\\item 'yes'\n",
       "\\item 'no'\n",
       "\\end{enumerate*}\n"
      ],
      "text/markdown": [
       "1. 'yes'\n",
       "2. 'no'\n",
       "\n",
       "\n"
      ],
      "text/plain": [
       "[1] \"yes\" \"no\" "
      ]
     },
     "metadata": {},
     "output_type": "display_data"
    }
   ],
   "source": [
    "c(\"yes\", \"no\")"
   ]
  },
  {
   "cell_type": "code",
   "execution_count": 6,
   "metadata": {},
   "outputs": [
    {
     "data": {
      "text/html": [
       "<ol class=list-inline>\n",
       "\t<li>yes</li>\n",
       "\t<li>no</li>\n",
       "</ol>\n"
      ],
      "text/latex": [
       "\\begin{enumerate*}\n",
       "\\item yes\n",
       "\\item no\n",
       "\\end{enumerate*}\n"
      ],
      "text/markdown": [
       "1. yes\n",
       "2. no\n",
       "\n",
       "\n"
      ],
      "text/plain": [
       "[1] yes no \n",
       "Levels: no yes"
      ]
     },
     "metadata": {},
     "output_type": "display_data"
    }
   ],
   "source": [
    "factor(c(\"yes\", \"no\"))"
   ]
  },
  {
   "cell_type": "markdown",
   "metadata": {},
   "source": [
    "Demo: integer-like properties, `relevel()`\n",
    "\n",
    "## Base R Data Types: missingness\n",
    "\n",
    "- Missing Values and others - **IMPORTANT**"
   ]
  },
  {
   "cell_type": "code",
   "execution_count": 7,
   "metadata": {},
   "outputs": [
    {
     "data": {
      "text/html": [
       "<ol class=list-inline>\n",
       "\t<li>&lt;NA&gt;</li>\n",
       "\t<li>NaN</li>\n",
       "\t<li>-Inf</li>\n",
       "\t<li>Inf</li>\n",
       "</ol>\n"
      ],
      "text/latex": [
       "\\begin{enumerate*}\n",
       "\\item <NA>\n",
       "\\item NaN\n",
       "\\item -Inf\n",
       "\\item Inf\n",
       "\\end{enumerate*}\n"
      ],
      "text/markdown": [
       "1. &lt;NA&gt;\n",
       "2. NaN\n",
       "3. -Inf\n",
       "4. Inf\n",
       "\n",
       "\n"
      ],
      "text/plain": [
       "[1]   NA  NaN -Inf  Inf"
      ]
     },
     "metadata": {},
     "output_type": "display_data"
    }
   ],
   "source": [
    "c(NA, NaN, -Inf, Inf)"
   ]
  },
  {
   "cell_type": "markdown",
   "metadata": {},
   "source": [
    "`class()` to find the class of a variable.\n",
    "\n",
    "## Base R Data Types: matrix, list, data.frame\n",
    "\n",
    "`matrix`:"
   ]
  },
  {
   "cell_type": "code",
   "execution_count": 8,
   "metadata": {},
   "outputs": [
    {
     "data": {
      "text/html": [
       "<table>\n",
       "<tbody>\n",
       "\t<tr><td>1</td><td>4</td><td>7</td></tr>\n",
       "\t<tr><td>2</td><td>5</td><td>8</td></tr>\n",
       "\t<tr><td>3</td><td>6</td><td>9</td></tr>\n",
       "</tbody>\n",
       "</table>\n"
      ],
      "text/latex": [
       "\\begin{tabular}{lll}\n",
       "\t 1 & 4 & 7\\\\\n",
       "\t 2 & 5 & 8\\\\\n",
       "\t 3 & 6 & 9\\\\\n",
       "\\end{tabular}\n"
      ],
      "text/markdown": [
       "\n",
       "| 1 | 4 | 7 | \n",
       "| 2 | 5 | 8 | \n",
       "| 3 | 6 | 9 | \n",
       "\n",
       "\n"
      ],
      "text/plain": [
       "     [,1] [,2] [,3]\n",
       "[1,] 1    4    7   \n",
       "[2,] 2    5    8   \n",
       "[3,] 3    6    9   "
      ]
     },
     "metadata": {},
     "output_type": "display_data"
    }
   ],
   "source": [
    "matrix(1:9, nrow = 3)"
   ]
  },
  {
   "cell_type": "markdown",
   "metadata": {},
   "source": [
    "The `list` is a non-atomic vector:"
   ]
  },
  {
   "cell_type": "code",
   "execution_count": 9,
   "metadata": {},
   "outputs": [
    {
     "data": {
      "text/html": [
       "<ol>\n",
       "\t<li><ol class=list-inline>\n",
       "\t<li>1.3</li>\n",
       "\t<li>1.6</li>\n",
       "\t<li>3.2</li>\n",
       "\t<li>9.8</li>\n",
       "\t<li>10.2</li>\n",
       "</ol>\n",
       "</li>\n",
       "\t<li><ol class=list-inline>\n",
       "\t<li>'Parent1.name'</li>\n",
       "\t<li>'Parent2.name'</li>\n",
       "</ol>\n",
       "</li>\n",
       "</ol>\n"
      ],
      "text/latex": [
       "\\begin{enumerate}\n",
       "\\item \\begin{enumerate*}\n",
       "\\item 1.3\n",
       "\\item 1.6\n",
       "\\item 3.2\n",
       "\\item 9.8\n",
       "\\item 10.2\n",
       "\\end{enumerate*}\n",
       "\n",
       "\\item \\begin{enumerate*}\n",
       "\\item 'Parent1.name'\n",
       "\\item 'Parent2.name'\n",
       "\\end{enumerate*}\n",
       "\n",
       "\\end{enumerate}\n"
      ],
      "text/markdown": [
       "1. 1. 1.3\n",
       "2. 1.6\n",
       "3. 3.2\n",
       "4. 9.8\n",
       "5. 10.2\n",
       "\n",
       "\n",
       "\n",
       "2. 1. 'Parent1.name'\n",
       "2. 'Parent2.name'\n",
       "\n",
       "\n",
       "\n",
       "\n",
       "\n"
      ],
      "text/plain": [
       "[[1]]\n",
       "[1]  1.3  1.6  3.2  9.8 10.2\n",
       "\n",
       "[[2]]\n",
       "[1] \"Parent1.name\" \"Parent2.name\"\n"
      ]
     },
     "metadata": {},
     "output_type": "display_data"
    }
   ],
   "source": [
    "measurements <- c( 1.3, 1.6, 3.2, 9.8, 10.2 )\n",
    "parents <- c( \"Parent1.name\", \"Parent2.name\" )\n",
    "my.list <- list( measurements, parents)\n",
    "my.list"
   ]
  },
  {
   "cell_type": "markdown",
   "metadata": {},
   "source": [
    "The `data.frame` has list-like and matrix-like properties:"
   ]
  },
  {
   "cell_type": "code",
   "execution_count": 10,
   "metadata": {
    "collapsed": true
   },
   "outputs": [],
   "source": [
    "x <- 11:16\n",
    "y <- seq(0,1,.2)\n",
    "z <- c( \"one\", \"two\", \"three\", \"four\", \"five\", \"six\" )\n",
    "a <- factor( z )\n",
    "my.df <- data.frame(x,y,z,a, stringsAsFactors = FALSE)"
   ]
  },
  {
   "cell_type": "markdown",
   "metadata": {},
   "source": [
    "## Bioconductor S4 vectors: DataFrame\n",
    "\n",
    "- Bioconductor (www.bioconductor.org) defines its own set of vectors using the S4 formal class system\n",
    "`DataFrame`: like a `data.frame` but more flexible. columns can be any atomic vector type:\n",
    "    - `GenomicRanges` objects\n",
    "    - `Rle` (run-length encoding)"
   ]
  },
  {
   "cell_type": "code",
   "execution_count": 11,
   "metadata": {},
   "outputs": [
    {
     "data": {
      "text/plain": [
       "DataFrame with 3 rows and 2 columns\n",
       "   var1      var2\n",
       "  <Rle> <integer>\n",
       "1     a         1\n",
       "2     a         2\n",
       "3     b         3"
      ]
     },
     "metadata": {},
     "output_type": "display_data"
    }
   ],
   "source": [
    "suppressPackageStartupMessages(library(S4Vectors))\n",
    "df <- DataFrame(var1 = Rle(c(\"a\", \"a\", \"b\")),\n",
    "          var2 = 1:3)\n",
    "metadata(df) <- list(father=\"Levi is my father\")\n",
    "df"
   ]
  },
  {
   "cell_type": "markdown",
   "metadata": {},
   "source": [
    "## Bioconductor S4 vectors: List and derived classes"
   ]
  },
  {
   "cell_type": "code",
   "execution_count": 12,
   "metadata": {},
   "outputs": [
    {
     "data": {
      "text/plain": [
       "List of length 2"
      ]
     },
     "metadata": {},
     "output_type": "display_data"
    }
   ],
   "source": [
    "List(my.list)"
   ]
  },
  {
   "cell_type": "code",
   "execution_count": 13,
   "metadata": {},
   "outputs": [
    {
     "name": "stdout",
     "output_type": "stream",
     "text": [
      "Formal class 'SimpleList' [package \"S4Vectors\"] with 4 slots\n",
      "  ..@ listData       :List of 2\n",
      "  .. ..$ : num [1:5] 1.3 1.6 3.2 9.8 10.2\n",
      "  .. ..$ : chr [1:2] \"Parent1.name\" \"Parent2.name\"\n",
      "  ..@ elementType    : chr \"ANY\"\n",
      "  ..@ elementMetadata: NULL\n",
      "  ..@ metadata       : list()\n"
     ]
    }
   ],
   "source": [
    "str(List(my.list))"
   ]
  },
  {
   "cell_type": "code",
   "execution_count": 14,
   "metadata": {},
   "outputs": [
    {
     "data": {
      "text/plain": [
       "IntegerList of length 2\n",
       "[[\"var1\"]] 1 2 3 4 5 6 7 8 9 10 11 12 13 14 15 16 17 18 19 20 21 22 23 24 25 26\n",
       "[[\"var2\"]] 1 2 3 4 5 6 7 8 9 10 11 12 ... 89 90 91 92 93 94 95 96 97 98 99 100"
      ]
     },
     "metadata": {},
     "output_type": "display_data"
    }
   ],
   "source": [
    "suppressPackageStartupMessages(library(IRanges))\n",
    "IntegerList(var1=1:26, var2=1:100)"
   ]
  },
  {
   "cell_type": "code",
   "execution_count": 15,
   "metadata": {},
   "outputs": [
    {
     "data": {
      "text/plain": [
       "CharacterList of length 2\n",
       "[[\"var1\"]] a b c d e f g h i j ... <NA> <NA> <NA> <NA> <NA> <NA> <NA> <NA> <NA>\n",
       "[[\"var2\"]] A B C D E F G H I J K L M N O P Q R S T U V W X Y Z"
      ]
     },
     "metadata": {},
     "output_type": "display_data"
    }
   ],
   "source": [
    "CharacterList(var1=letters[1:100], var2=LETTERS[1:26])"
   ]
  },
  {
   "cell_type": "code",
   "execution_count": 16,
   "metadata": {},
   "outputs": [
    {
     "data": {
      "text/plain": [
       "LogicalList of length 2\n",
       "[[\"var1\"]] FALSE FALSE FALSE FALSE TRUE FALSE ... FALSE FALSE FALSE FALSE FALSE\n",
       "[[\"var2\"]] TRUE FALSE TRUE FALSE TRUE FALSE ... FALSE TRUE FALSE TRUE FALSE"
      ]
     },
     "metadata": {},
     "output_type": "display_data"
    }
   ],
   "source": [
    "LogicalList(var1=1:100 %in% 5, var2=1:100 %% 2)"
   ]
  },
  {
   "cell_type": "markdown",
   "metadata": {},
   "source": [
    "## Bioconductor S4 vectors: Biostrings"
   ]
  },
  {
   "cell_type": "code",
   "execution_count": 17,
   "metadata": {},
   "outputs": [
    {
     "data": {
      "text/plain": [
       "  21-letter \"BString\" instance\n",
       "seq: I am a BString object"
      ]
     },
     "metadata": {},
     "output_type": "display_data"
    }
   ],
   "source": [
    "suppressPackageStartupMessages(library(Biostrings))\n",
    "bstring = BString(\"I am a BString object\")\n",
    "bstring"
   ]
  },
  {
   "cell_type": "code",
   "execution_count": 18,
   "metadata": {},
   "outputs": [
    {
     "data": {
      "text/plain": [
       "  12-letter \"DNAString\" instance\n",
       "seq: TTGAAA-CTC-N"
      ]
     },
     "metadata": {},
     "output_type": "display_data"
    }
   ],
   "source": [
    "dnastring = DNAString(\"TTGAAA-CTC-N\")\n",
    "dnastring"
   ]
  },
  {
   "cell_type": "code",
   "execution_count": 19,
   "metadata": {},
   "outputs": [
    {
     "name": "stdout",
     "output_type": "stream",
     "text": [
      "Formal class 'DNAString' [package \"Biostrings\"] with 5 slots\n",
      "  ..@ shared         :Formal class 'SharedRaw' [package \"XVector\"] with 2 slots\n",
      "  .. .. ..@ xp                    :<externalptr> \n",
      "  .. .. ..@ .link_to_cached_object:<environment: 0x7fbaee4bf518> \n",
      "  ..@ offset         : int 0\n",
      "  ..@ length         : int 12\n",
      "  ..@ elementMetadata: NULL\n",
      "  ..@ metadata       : list()\n"
     ]
    }
   ],
   "source": [
    "str(dnastring)"
   ]
  },
  {
   "cell_type": "code",
   "execution_count": 20,
   "metadata": {},
   "outputs": [
    {
     "data": {
      "text/html": [
       "<dl class=dl-horizontal>\n",
       "\t<dt>A</dt>\n",
       "\t\t<dd>0.25</dd>\n",
       "\t<dt>C</dt>\n",
       "\t\t<dd>0.166666666666667</dd>\n",
       "\t<dt>G</dt>\n",
       "\t\t<dd>0.0833333333333333</dd>\n",
       "\t<dt>T</dt>\n",
       "\t\t<dd>0.25</dd>\n",
       "\t<dt>other</dt>\n",
       "\t\t<dd>0.25</dd>\n",
       "</dl>\n"
      ],
      "text/latex": [
       "\\begin{description*}\n",
       "\\item[A] 0.25\n",
       "\\item[C] 0.166666666666667\n",
       "\\item[G] 0.0833333333333333\n",
       "\\item[T] 0.25\n",
       "\\item[other] 0.25\n",
       "\\end{description*}\n"
      ],
      "text/markdown": [
       "A\n",
       ":   0.25C\n",
       ":   0.166666666666667G\n",
       ":   0.0833333333333333T\n",
       ":   0.25other\n",
       ":   0.25\n",
       "\n"
      ],
      "text/plain": [
       "         A          C          G          T      other \n",
       "0.25000000 0.16666667 0.08333333 0.25000000 0.25000000 "
      ]
     },
     "metadata": {},
     "output_type": "display_data"
    }
   ],
   "source": [
    "alphabetFrequency(dnastring, baseOnly=TRUE, as.prob=TRUE)"
   ]
  },
  {
   "cell_type": "markdown",
   "metadata": {},
   "source": [
    "# dplyr\n",
    "\n",
    "## Data Manipulation using `dplyr`\n",
    "\n",
    "* `dplyr` convention aims to ease cognitive burden\n",
    "* Function names are easy to remember:\n",
    "1. select (Y)\n",
    "2. mutate/transmute (add Ys / new Y)\n",
    "3. filter (get Xs based on condition)\n",
    "4. slice (get Xs specified)\n",
    "5. summarise (reduce to single observation) \n",
    "6. arrange (re-order observations)\n",
    "\n",
    "## `dplyr` example"
   ]
  },
  {
   "cell_type": "code",
   "execution_count": 21,
   "metadata": {},
   "outputs": [
    {
     "name": "stderr",
     "output_type": "stream",
     "text": [
      "\n",
      "Attaching package: ‘dplyr’\n",
      "\n",
      "The following objects are masked from ‘package:Biostrings’:\n",
      "\n",
      "    collapse, intersect, setdiff, setequal, union\n",
      "\n",
      "The following object is masked from ‘package:XVector’:\n",
      "\n",
      "    slice\n",
      "\n",
      "The following objects are masked from ‘package:IRanges’:\n",
      "\n",
      "    collapse, desc, intersect, setdiff, slice, union\n",
      "\n",
      "The following objects are masked from ‘package:S4Vectors’:\n",
      "\n",
      "    first, intersect, rename, setdiff, setequal, union\n",
      "\n",
      "The following objects are masked from ‘package:BiocGenerics’:\n",
      "\n",
      "    combine, intersect, setdiff, union\n",
      "\n",
      "The following objects are masked from ‘package:stats’:\n",
      "\n",
      "    filter, lag\n",
      "\n",
      "The following objects are masked from ‘package:base’:\n",
      "\n",
      "    intersect, setdiff, setequal, union\n",
      "\n"
     ]
    }
   ],
   "source": [
    "library(nycflights13)\n",
    "library(dplyr)\n",
    "delays <- flights %>% \n",
    "  filter(!is.na(dep_delay)) %>%\n",
    "  group_by(year, month, day, hour) %>%\n",
    "  summarise(delay = mean(dep_delay), n = n()) %>%\n",
    "  filter(n > 10)"
   ]
  },
  {
   "cell_type": "markdown",
   "metadata": {},
   "source": [
    "## `dplyr` example (cont'd)"
   ]
  },
  {
   "cell_type": "code",
   "execution_count": 22,
   "metadata": {},
   "outputs": [
    {
     "data": {
      "image/png": "[encoded data removed]",
      "text/plain": [
       "Plot with title “Mean hourly delay”"
      ]
     },
     "metadata": {},
     "output_type": "display_data"
    }
   ],
   "source": [
    "hist(delays$delay, main=\"Mean hourly delay\", xlab=\"Delay (hours)\")"
   ]
  },
  {
   "cell_type": "markdown",
   "metadata": {},
   "source": [
    "# Random Variables and Distributions\n",
    "\n",
    "## Random Variables\n",
    "\n",
    "- **A random variable**: any characteristic that can be measured or categorized, and where any particular outcome is determined at least partially by chance.\n",
    "\n",
    "> - Examples:\n",
    "    - number of new diabetes cases in NYC in a given year\n",
    "    - The weight of a randomly selected individual in NYC\n",
    "\n",
    "> - Types:\n",
    "    - Categorical random variable (e.g. disease / healthy)\n",
    "    - Discrete random variable (e.g. sequence read counts)\n",
    "    - Continuous random variable (e.g. normalized qPCR intensity)\n",
    "\n",
    "## Probability Distributions\n",
    "\n",
    " - We use probability distributions to describe the probability of all possible realizations of a random variable\n",
    " - In public health we use probability distributions to describe hypotheses or inference about the _population_\n",
    "    - because we normally cannot observe the entire population\n",
    "- In practice we study a _sample_ selected from the population\n",
    "\n",
    "<center>\n",
    "<img src=\"http://blogs.oregonstate.edu/programevaluation/files/2014/04/ramdom-sample.jpg\" alt=\"Random Sample\" align=\"middle\" style=\"width: 300px;\"/>\n",
    "</center>\n",
    "\n",
    "## Random Variables - examples\n",
    "\n",
    "Normally distributed random variable with mean $\\mu = 0$ / standard deviation $\\sigma = 1$, and a sample of $n=100$"
   ]
  },
  {
   "cell_type": "code",
   "execution_count": 23,
   "metadata": {},
   "outputs": [
    {
     "data": {
      "image/png": "[encoded data removed]",
      "text/plain": [
       "Plot with title “Standard Normal Distribution\n",
       " mean 0, std. dev. 1”"
      ]
     },
     "metadata": {},
     "output_type": "display_data"
    }
   ],
   "source": [
    "x=rnorm(100)\n",
    "res=hist(x, main=\"Standard Normal Distribution\\n mean 0, std. dev. 1\", prob=TRUE)\n",
    "xdens = seq(min(res$breaks), max(res$breaks), by=0.01)\n",
    "lines(xdens, dnorm(xdens))"
   ]
  },
  {
   "cell_type": "markdown",
   "metadata": {},
   "source": [
    "## Random Variables - examples\n",
    "\n",
    "Poisson distributed random variable ($\\lambda = 2$), and a sample of $n=100$."
   ]
  },
  {
   "cell_type": "code",
   "execution_count": 24,
   "metadata": {},
   "outputs": [
    {
     "data": {
      "image/png": "[encoded data removed]",
      "text/plain": [
       "Plot with title “Poisson Distribution”"
      ]
     },
     "metadata": {},
     "output_type": "display_data"
    }
   ],
   "source": [
    "x=rpois(100, lambda=2)\n",
    "res=hist(x, main=\"Poisson Distribution\", prob=FALSE, col=\"lightgrey\",\n",
    "     breaks=seq(-0.5, round(max(x))+0.5, by=0.5))\n",
    "xdens = seq(min(x), max(x), by=1)\n",
    "lines(xdens, length(x) * dpois(xdens, lambda=2), lw=2)"
   ]
  },
  {
   "cell_type": "markdown",
   "metadata": {},
   "source": [
    "## Random Variables - examples\n",
    "\n",
    "Negative Binomially distributed random variable ($size=30, \\mu=2$), and a sample of $n=100$."
   ]
  },
  {
   "cell_type": "code",
   "execution_count": 25,
   "metadata": {},
   "outputs": [
    {
     "data": {
      "image/png": "[encoded data removed]",
      "text/plain": [
       "Plot with title “Negative Binomial Distribution”"
      ]
     },
     "metadata": {},
     "output_type": "display_data"
    }
   ],
   "source": [
    "x=rnbinom(100, size=30, mu=2)\n",
    "res=hist(x, main=\"Negative Binomial Distribution\", prob=FALSE, col=\"lightgrey\",\n",
    "     breaks=seq(-0.5, round(max(x))+0.5, by=0.5))\n",
    "xdens = seq(min(x), max(x), by=1)\n",
    "lines(xdens, length(x) * dnbinom(xdens, size=30, mu=2), lw=2)"
   ]
  },
  {
   "cell_type": "markdown",
   "metadata": {},
   "source": [
    "## Random Variables - examples\n",
    "\n",
    "- Binomial Distribution random variable ($size=20, prob=0.25$), and a sample of $n=100$.\n",
    "    - use for binary outcomes"
   ]
  },
  {
   "cell_type": "code",
   "execution_count": 26,
   "metadata": {},
   "outputs": [
    {
     "data": {
      "image/png": "[encoded data removed]",
      "text/plain": [
       "Plot with title “Binomial Distribution”"
      ]
     },
     "metadata": {},
     "output_type": "display_data"
    }
   ],
   "source": [
    "x=rbinom(100, size=20, prob=0.25)\n",
    "res=hist(x, main=\"Binomial Distribution\", prob=FALSE, col=\"lightgrey\",\n",
    "     breaks=seq(-0.5, round(max(x))+0.5, by=0.5))\n",
    "xdens = seq(min(x), max(x), by=1)\n",
    "lines(xdens, length(x) * dbinom(xdens, size=20, prob=0.25), lw=2)"
   ]
  },
  {
   "cell_type": "markdown",
   "metadata": {},
   "source": [
    "# Hypothesis Testing\n",
    "\n",
    "## Population vs sampling distributions\n",
    "\n",
    "- Population distributions\n",
    "    + Each realization / point is an individual\n",
    "    \n",
    "- Sampling distributions\n",
    "    + Each realization / point is a sample\n",
    "    + distribution depends on sample size\n",
    "    + large sample distributions are given by the Central Limit Theorem\n",
    "\n",
    "- **Hypothesis testing is about sampling distributions**\n",
    "    + Did my sample likely come from that distribution?\n",
    "\n",
    "## Logic of hypothesis testing\n",
    "\n",
    "**One Sample** - observations come from one of two population distributions:\n",
    "\n",
    "1. usual distribution that has been true in the past\n",
    "2. a potentially new distribution induced by an intervention or changing condition\n",
    "\n",
    "**Two Sample** - two samples are drawn, either:\n",
    "\n",
    "1. from a single population\n",
    "2. from two different populations\n",
    "\n",
    "## The t-tests\n",
    "\n",
    "- In a one-sample test, only a single sample is drawn:\n",
    "    - $H_0: \\mu = \\mu_0$\n",
    "- In a two-sample test, two samples are drawn *independently*:\n",
    "    - $H_0: \\mu_1 = \\mu_2$\n",
    "- A paired test is one sample of paired measurements, e.g.:\n",
    "    - individuals before and after treatment\n",
    "\n",
    "## When to use t-tests\n",
    "\n",
    "* $\\frac{{}\\bar{x} - \\mu}{s}$ and $\\frac{\\bar{x_1} - \\bar{x_2}}{s}$\n",
    "are t-distributed *if*:\n",
    "    - the standard deviation $s$ is estimated from the sample\n",
    "    - the population values are normally distributed\n",
    "    - the population values are slightly skewed but n > 15\n",
    "    - the population values are quite skewed but n > 30\n",
    "\n",
    "* Wilcoxon tests are an alternative for non-normal populations\n",
    "    - e.g. rank data\n",
    "    - data where ranks are more informative than means\n",
    "    - *not* when many ranks are arbitrary\n",
    "    \n",
    "\n",
    "# Hypothesis testing for categorical variables\n",
    "\n",
    "## Lady Tasting Tea\n",
    "\n",
    "- The Lady in question claimed to be able to tell whether the tea or the milk was added first to a cup\n",
    "- Fisher proposed to give her eight cups, four of each variety, in random order\n",
    "    - the Lady is **fully informed** of the experimental method\n",
    "    - $H_0$: the Lady has no ability to tell which was added first\n",
    "\n",
    "<center>\n",
    "<img src=\"https://upload.wikimedia.org/wikipedia/commons/thumb/3/37/Nice_Cup_of_Tea.jpg/330px-Nice_Cup_of_Tea.jpg\" alt=\"Lady tasting tea\" align=\"middle\" style=\"height: 200px;\">\n",
    "</center>\n",
    "\n",
    "Source: https://en.wikipedia.org/wiki/Lady_tasting_tea\n",
    "\n",
    "## Fisher's Exact Test\n",
    "\n",
    "p-value is the probability of the observed number of successes, or more, under $H_0$\n",
    "\n",
    "<table>\n",
    "<caption>Tea-Tasting Distribution</caption>\n",
    "<tr>\n",
    "<th scope=\"col\">Success count</th>\n",
    "<th scope=\"col\">Permutations of selection</th>\n",
    "<th scope=\"col\">Number of permutations</th>\n",
    "</tr>\n",
    "<tr>\n",
    "<td>0</td>\n",
    "<td>oooo</td>\n",
    "<td>1 × 1 = 1</td>\n",
    "</tr>\n",
    "<tr>\n",
    "<td>1</td>\n",
    "<td>ooox, ooxo, oxoo, xooo</td>\n",
    "<td>4 × 4 = 16</td>\n",
    "</tr>\n",
    "<tr>\n",
    "<td>2</td>\n",
    "<td>ooxx, oxox, oxxo, xoxo, xxoo, xoox</td>\n",
    "<td>6 × 6 = 36</td>\n",
    "</tr>\n",
    "<tr>\n",
    "<td>3</td>\n",
    "<td>oxxx, xoxx, xxox, xxxo</td>\n",
    "<td>4 × 4 = 16</td>\n",
    "</tr>\n",
    "<tr>\n",
    "<td>4</td>\n",
    "<td>xxxx</td>\n",
    "<td>1 × 1 = 1</td>\n",
    "</tr>\n",
    "<tr>\n",
    "<th colspan=\"2\" scope=\"row\">Total</th>\n",
    "<td>70</td>\n",
    "</tr>\n",
    "</table>\n",
    "\n",
    "What do you notice about all these combinations?\n",
    "\n",
    "## Notes on Fisher's Exact Test\n",
    "\n",
    "- Can also be applied to rxc tables\n",
    "- Remember that the margins of the table are *fixed by design*\n",
    "- Also referred to as the Hypergeometric Test\n",
    "- Exact p-values are difficult (and unnecessary) for large samples\n",
    "    - `fisher.test(x, y = NULL, etc, simulate.p.value = FALSE)`\n",
    "\n",
    "## Notes on Fisher's Exact Test (cont'd)\n",
    "\n",
    "- Has been applied (**with peril!**) to gene set analysis, e.g.:\n",
    "    - 10 of my top 100 genes are annotated with the cytokinesis GO term\n",
    "    - 465 of 21,000 human genes are annotated with the cytokinesis GO term\n",
    "    - Are my top 100 genes enriched for cytokinesis process?\n",
    "- Problems with this analysis:\n",
    "    - Main problem: top-n genes tend to be correlated, so their selections are not independent trials\n",
    "    - Secondary: does not match design for $H_0$\n",
    "- Alternative: permutation test repeating all steps\n",
    "\n",
    "## Chi-squared test\n",
    "\n",
    "- Test of independence for rxc table (two categorical variables)\n",
    "- Does not assume the margins are fixed by design\n",
    "    - i.e., the number of cups of tea with milk poured first can be random, and the Lady doesn't know how many\n",
    "    - more common in practice\n",
    "    - classic genomics example is GWAS\n",
    "- $H_0$: the two variables are independent\n",
    "- $H_A$: there is an association between the variables\n",
    "\n",
    "## Application to GWAS\n",
    "\n",
    "* Interested in association between disease and some potential causative factor\n",
    "* In a case-control study, the numbers of cases and controls are fixed, but the other variable is not\n",
    "* In a prospective or longitudinal cohort study, neither the number of cases or the other variable are fixed"
   ]
  },
  {
   "cell_type": "code",
   "execution_count": 27,
   "metadata": {},
   "outputs": [
    {
     "data": {
      "text/plain": [
       "    disease     genotype  \n",
       " control:220   AA/Aa:204  \n",
       " cases  : 30   aa   : 46  "
      ]
     },
     "metadata": {},
     "output_type": "display_data"
    }
   ],
   "source": [
    "disease=factor(c(rep(0,180),rep(1,20),rep(0,40),rep(1,10)),\n",
    "               labels=c(\"control\",\"cases\"))\n",
    "genotype=factor(c(rep(\"AA/Aa\",204),rep(\"aa\",46)),\n",
    "                levels=c(\"AA/Aa\",\"aa\"))\n",
    "dat <- data.frame(disease, genotype)\n",
    "dat <- dat[sample(nrow(dat)),] #shuffle them up \n",
    "summary(dat)"
   ]
  },
  {
   "cell_type": "markdown",
   "metadata": {},
   "source": [
    "## Application to GWAS (cont'd)"
   ]
  },
  {
   "cell_type": "code",
   "execution_count": 28,
   "metadata": {},
   "outputs": [
    {
     "data": {
      "text/plain": [
       "         genotype\n",
       "disease   AA/Aa  aa\n",
       "  control   184  36\n",
       "  cases      20  10"
      ]
     },
     "metadata": {},
     "output_type": "display_data"
    }
   ],
   "source": [
    "table(disease, genotype)"
   ]
  },
  {
   "cell_type": "code",
   "execution_count": 29,
   "metadata": {},
   "outputs": [
    {
     "data": {
      "text/plain": [
       "\n",
       "\tPearson's Chi-squared test with Yates' continuity correction\n",
       "\n",
       "data:  disease and genotype\n",
       "X-squared = 3.9963, df = 1, p-value = 0.0456\n"
      ]
     },
     "metadata": {},
     "output_type": "display_data"
    }
   ],
   "source": [
    "chisq.test(disease, genotype)"
   ]
  },
  {
   "cell_type": "code",
   "execution_count": 30,
   "metadata": {},
   "outputs": [
    {
     "data": {
      "text/plain": [
       "\n",
       "\tPearson's Chi-squared test with simulated p-value (based on 2000\n",
       "\treplicates)\n",
       "\n",
       "data:  disease and genotype\n",
       "X-squared = 5.0634, df = NA, p-value = 0.04048\n"
      ]
     },
     "metadata": {},
     "output_type": "display_data"
    }
   ],
   "source": [
    "chisq.test(disease, genotype, simulate.p.value = TRUE)"
   ]
  },
  {
   "cell_type": "markdown",
   "metadata": {},
   "source": [
    "## Application to GWAS (cont'd)\n",
    "\n",
    "Note that the result says nothing about *how* the departure from independence occurs"
   ]
  },
  {
   "cell_type": "code",
   "execution_count": 31,
   "metadata": {},
   "outputs": [
    {
     "data": {
      "text/html": [
       "<table>\n",
       "<thead><tr><th></th><th scope=col>estimate</th><th scope=col>lower</th><th scope=col>upper</th></tr></thead>\n",
       "<tbody>\n",
       "\t<tr><th scope=row>AA/Aa</th><td>1.000000</td><td>      NA</td><td>      NA</td></tr>\n",
       "\t<tr><th scope=row>aa</th><td>2.555556</td><td>1.104441</td><td>5.913274</td></tr>\n",
       "</tbody>\n",
       "</table>\n"
      ],
      "text/latex": [
       "\\begin{tabular}{r|lll}\n",
       "  & estimate & lower & upper\\\\\n",
       "\\hline\n",
       "\tAA/Aa & 1.000000 &       NA &       NA\\\\\n",
       "\taa & 2.555556 & 1.104441 & 5.913274\\\\\n",
       "\\end{tabular}\n"
      ],
      "text/markdown": [
       "\n",
       "| <!--/--> | estimate | lower | upper | \n",
       "|---|---|\n",
       "| AA/Aa | 1.000000 |       NA |       NA | \n",
       "| aa | 2.555556 | 1.104441 | 5.913274 | \n",
       "\n",
       "\n"
      ],
      "text/plain": [
       "         odds ratio with 95% C.I.\n",
       "Predictor estimate lower    upper   \n",
       "    AA/Aa 1.000000       NA       NA\n",
       "    aa    2.555556 1.104441 5.913274"
      ]
     },
     "metadata": {},
     "output_type": "display_data"
    }
   ],
   "source": [
    "library(epitools)\n",
    "epitools::oddsratio(genotype, disease, method=\"wald\")$measure"
   ]
  },
  {
   "cell_type": "markdown",
   "metadata": {},
   "source": [
    "(the default is whichever level is first alphabetically!)\n",
    "\n",
    "## Summary - two categorical variables\n",
    "\n",
    "- Choice between Fisher's Exact Test and Chi-square test is determined by experimental design\n",
    "- If any counts in the table are less than 5, can use `simulate.p.value=TRUE` to get a more accurate p-value from the chi-square test\n",
    "- Both assume independent observations (important!!)\n",
    "- In a GWAS, correction for multiple testing is required\n",
    "- Can also use logistic regression for two categorical variables\n",
    "\n",
    "\n",
    "## Power and type I and II error\n",
    "\n",
    "| True state of nature | Result of test             |                                                 |\n",
    "|----------------------|----------------------------|-------------------------------------------------|\n",
    "|                      | **Reject $H_0$**                                      | **Fail to reject $H_0$**                                 |\n",
    "| $H_0$ TRUE           | Type I error, probability = $\\alpha$ | No error, probability = $1-\\alpha$                     |\n",
    "| $H_0$ FALSE          | No error, probability is called power = $1-\\beta$    | Type II error, probability = $\\beta$ (false negative) |\n",
    "\n",
    "## Use and mis-use of the p-value\n",
    "\n",
    "- The p-value is the probability of observing a sample statistic _as or more extreme_ as you did, _assuming that $H_0$ is true_\n",
    "- The p-value is a **random variable**:\n",
    "    - **don't** treat it as precise.\n",
    "    - **don't** do silly things like try to interpret differences or ratios between p-values\n",
    "    - **don't** lose track of test assumptions such as independence of observations\n",
    "    - **do** use a moderate p-value cutoff, then use some effect size measure for ranking\n",
    "- Small p-values are particularly:\n",
    "    - variable under repeated sampling, and\n",
    "    - sensitive to test assumptions\n",
    "\n",
    "## Use and mis-use of the p-value (cont'd)\n",
    "\n",
    "- If we fail to reject $H_0$, is the probability that $H_0$ is true equal to ($1-\\alpha$)?  (Hint: NO NO NO!)\n",
    "    - Failing to reject $H_0$ does not mean $H_0$ is true\n",
    "    - \"No evidence of difference $\\neq$ evidence of no difference\"\n",
    "- Statistical significance vs. practical significance\n",
    "    - As sample size increases, point estimates such as the mean are more precise\n",
    "    - With large sample size, small differences in means may be statistically significant but not practically significant\n",
    "- Although $\\alpha = 0.05$ is a common cut-off for the p-value, there is no set border between \"significant\" and \"insignificant,\" only increasingly strong evidence against $H_0$ (in favor of $H_A$) as the p-value gets smaller.\n",
    "\n",
    "# Lab Exercises\n",
    "\n",
    "1. [dplyr exercises](http://genomicsclass.github.io/book/pages/dplyr_intro_exercises.html)\n",
    "2. [random variables exercises](http://genomicsclass.github.io/book/pages/random_variables_exercises.html)"
   ]
  }
 ],
 "metadata": {
  "kernelspec": {
   "display_name": "R",
   "language": "R",
   "name": "ir"
  },
  "language_info": {
   "codemirror_mode": "r",
   "file_extension": ".r",
   "mimetype": "text/x-r-source",
   "name": "R",
   "pygments_lexer": "r",
   "version": "3.4.3"
  }
 },
 "nbformat": 4,
 "nbformat_minor": 2
}
